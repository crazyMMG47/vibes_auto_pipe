{
 "cells": [
  {
   "cell_type": "markdown",
   "metadata": {},
   "source": [
    "## Vibes Lab Mask Automation Pipeline Development (Draft 2)"
   ]
  },
  {
   "cell_type": "markdown",
   "metadata": {},
   "source": [
    "Second trial with input as nii files. "
   ]
  },
  {
   "cell_type": "code",
   "execution_count": null,
   "metadata": {},
   "outputs": [],
   "source": [
    "import nibabel as nib\n",
    "import numpy as np\n",
    "nifti = nib.load(\"/home/smooi/vibes_auto_pipe/data/Cc_just_bet_nifti/Cc106_t2bet.nii\")\n",
    "# retrieve nifti data\n",
    "data = nifti.get_fdata()\n",
    "data = (data - np.min(data)) / (np.max(data) - np.min(data)) * 255.0\n",
    "data = data.astype(np.uint8)  # Convert to 8-bit unsigned integers"
   ]
  },
  {
   "cell_type": "code",
   "execution_count": 2,
   "metadata": {},
   "outputs": [
    {
     "name": "stdout",
     "output_type": "stream",
     "text": [
      "<class 'numpy.ndarray'>\n"
     ]
    }
   ],
   "source": [
    "print(type(data))"
   ]
  },
  {
   "cell_type": "code",
   "execution_count": 4,
   "metadata": {},
   "outputs": [
    {
     "name": "stderr",
     "output_type": "stream",
     "text": [
      "2025-02-14 13:37:31.147942: W tensorflow/stream_executor/platform/default/dso_loader.cc:60] Could not load dynamic library 'libcudart.so.11.0'; dlerror: libcudart.so.11.0: cannot open shared object file: No such file or directory; LD_LIBRARY_PATH: /usr/local/cuda-12.6/lib64\n",
      "2025-02-14 13:37:31.147993: I tensorflow/stream_executor/cuda/cudart_stub.cc:29] Ignore above cudart dlerror if you do not have a GPU set up on your machine.\n",
      "2025-02-14 13:37:32.620335: I tensorflow/compiler/jit/xla_cpu_device.cc:41] Not creating XLA devices, tf_xla_enable_xla_devices not set\n",
      "2025-02-14 13:37:32.621963: I tensorflow/stream_executor/platform/default/dso_loader.cc:49] Successfully opened dynamic library libcuda.so.1\n",
      "2025-02-14 13:37:32.776060: E tensorflow/stream_executor/cuda/cuda_driver.cc:328] failed call to cuInit: CUDA_ERROR_NO_DEVICE: no CUDA-capable device is detected\n",
      "2025-02-14 13:37:32.776121: I tensorflow/stream_executor/cuda/cuda_diagnostics.cc:156] kernel driver does not appear to be running on this host (MMServer): /proc/driver/nvidia/version does not exist\n"
     ]
    }
   ],
   "source": [
    "# config to use the gpu of the server \n",
    "import tensorflow as tf\n",
    "gpus = tf.config.list_physical_devices('GPU')\n",
    "if gpus:\n",
    "    try:\n",
    "        for gpu in gpus:\n",
    "            tf.config.experimental.set_memory_growth(gpu, True)\n",
    "    except RuntimeError as e:\n",
    "        print(e)"
   ]
  },
  {
   "cell_type": "code",
   "execution_count": 5,
   "metadata": {},
   "outputs": [
    {
     "name": "stdout",
     "output_type": "stream",
     "text": [
      "(96, 96, 48)\n"
     ]
    },
    {
     "name": "stderr",
     "output_type": "stream",
     "text": [
      "[ WARN:0@0.043] global loadsave.cpp:848 imwrite_ Unsupported depth image for selected encoder is fallbacked to CV_8U.\n"
     ]
    }
   ],
   "source": [
    "print(data.shape) # (96, 96, 48) # there are 48 slices\n",
    "import cv2\n",
    "import os\n",
    "output_dir = \"/home/smooi/vibes_auto_pipe/output\"\n",
    "\n",
    "# Iterate through the slices \n",
    "for i in range(data.shape[2]): #iter thru 1 to 48 \n",
    "    slice_ = data[:, :, i] # 2D slices\n",
    "    resized_slice = cv2.resize(slice_, (160, 160), interpolation=cv2.INTER_AREA)\n",
    "    # rotate the image by 90 degrees counterclockwise \n",
    "    rotated_slice = cv2.rotate(resized_slice, cv2.ROTATE_90_COUNTERCLOCKWISE)  \n",
    "    # Scale to Full Grayscale Range [0, 255]\n",
    "    img_max_range = rotated_slice.max()\n",
    "    output_img = (rotated_slice / img_max_range) * 255\n",
    "    output_path = os.path.join(output_dir, f\"{i:03d}.png\") \n",
    "    cv2.imwrite(output_path, output_img)\n",
    "    \n",
    "# retrieve the original shape of the image here \n",
    "# so that we can reshape it back to the original shape at the end in Python code\n",
    "w = data.shape[0]\n",
    "h = data.shape[1]\n",
    "s = data.shape[2]"
   ]
  },
  {
   "cell_type": "code",
   "execution_count": 6,
   "metadata": {},
   "outputs": [
    {
     "name": "stdout",
     "output_type": "stream",
     "text": [
      "Image Shape: (160, 160)\n",
      "Data Type: uint8\n",
      "Min Pixel Value: 0\n",
      "Max Pixel Value: 255\n"
     ]
    }
   ],
   "source": [
    "# load a png file and explore its min and max\n",
    "picture = \"/home/smooi/vibes_auto_pipe/output/001.png\"\n",
    "\n",
    "# chatgpt's code to examine a png file\n",
    "image = cv2.imread(picture, cv2.IMREAD_UNCHANGED)\n",
    "\n",
    "# Display basic information\n",
    "print(f\"Image Shape: {image.shape}\")  # Dimensions: (height, width, channels)\n",
    "print(f\"Data Type: {image.dtype}\")    # Pixel data type (e.g., uint8)\n",
    "print(f\"Min Pixel Value: {image.min()}\")  # Minimum pixel intensity\n",
    "print(f\"Max Pixel Value: {image.max()}\")  # Maximum pixel intensity\n",
    "\n",
    "# Currently, there's no channel info\n",
    "# It is also observed that the pixel range is not Scale to Full Grayscale Range [0, 255]"
   ]
  },
  {
   "cell_type": "code",
   "execution_count": 7,
   "metadata": {},
   "outputs": [
    {
     "name": "stdout",
     "output_type": "stream",
     "text": [
      "Processed Image Batch Shape: (56, 160, 160, 1)\n"
     ]
    },
    {
     "name": "stderr",
     "output_type": "stream",
     "text": [
      "2025-02-14 13:39:26.374220: I tensorflow/compiler/jit/xla_gpu_device.cc:99] Not creating XLA devices, tf_xla_enable_xla_devices not set\n"
     ]
    }
   ],
   "source": [
    "import tensorflow as tf\n",
    "mydir = \"/home/smooi/vibes_auto_pipe/output\"\n",
    "\n",
    "def prepare_image_for_tf(img):\n",
    "    brain_img = tf.io.read_file(img)\n",
    "    brain_img = tf.io.decode_png(brain_img, channels=1) # brain img channels=1 greyscale\n",
    "    brain_img = tf.image.resize(brain_img, [160, 160]) # Necessary since inputs may be varying in size from different trials\n",
    "    brain_img = tf.cast(brain_img, tf.float32)  \n",
    "    \n",
    "    return brain_img\n",
    "\n",
    "# make this to be a global variable \n",
    "store_filenames = []\n",
    "def retrieve_n_sort(directory):\n",
    "    # List Comprehensions\n",
    "    filenames = [filename for filename in os.listdir(directory) if filename.endswith(\".png\")]\n",
    "    # lambda func\n",
    "    filenames.sort(key=lambda x: int(x.split('.')[0].split('/')[-1]))  # Sort by slice number\n",
    "    return filenames\n",
    "\n",
    "\n",
    "# Process all images in the directory\n",
    "def process_all_images(directory):\n",
    "    sorted_filenames = retrieve_n_sort(directory)\n",
    "    image_tensors = [prepare_image_for_tf(os.path.join(directory, filename)) for filename in sorted_filenames]\n",
    "    return tf.stack(image_tensors)  # Stack into a batch tensor\n",
    "\n",
    "# Process images in the directory\n",
    "image_batch = process_all_images(mydir)\n",
    "print(f\"Processed Image Batch Shape: {image_batch.shape}\") # Processed Image Batch Shape: (48, 160, 160, 1)  48 refers to the batch size \n"
   ]
  },
  {
   "cell_type": "code",
   "execution_count": null,
   "metadata": {},
   "outputs": [],
   "source": [
    "# # let's reexamine the shape and intensity of the images\n",
    "# for brain_img in image_batch:\n",
    "    \n",
    "#     print(\"Brain Image range: Min =\", tf.reduce_min(brain_img).numpy(), \n",
    "#           \"Max =\", tf.reduce_max(brain_img).numpy())\n",
    "    \n",
    "# yes, its min = 0 and max = 255 now. "
   ]
  },
  {
   "cell_type": "code",
   "execution_count": 8,
   "metadata": {},
   "outputs": [
    {
     "data": {
      "image/png": "[encoded data removed]",
      "text/plain": [
       "<Figure size 500x500 with 1 Axes>"
      ]
     },
     "metadata": {},
     "output_type": "display_data"
    }
   ],
   "source": [
    "# show brain figures that we want to visualize\n",
    "# View 10 random brain image and mask from training data:\n",
    "import matplotlib.pyplot as plt\n",
    "plt.figure(figsize=(5,5))\n",
    "\n",
    "for image in image_batch:  # Let's examine five pairs\n",
    "    # i: represent index var for each iteration\n",
    "    # Show brain image\n",
    "    squeezed_brain_img = tf.squeeze(image, axis=-1)  # Remove the channel dimension (which indicates greyscale)\n",
    "    plt.imshow(squeezed_brain_img, cmap=\"gray\")\n",
    "    plt.title(f\"Brain Image {i + 1}\")\n",
    "    plt.axis(\"off\")\n",
    "    plt.tight_layout() \n",
    "    # plt.show() \n",
    "\n"
   ]
  },
  {
   "cell_type": "code",
   "execution_count": 9,
   "metadata": {},
   "outputs": [
    {
     "name": "stdout",
     "output_type": "stream",
     "text": [
      "2.4.0\n",
      "Your loss function class initiate successfully!\n",
      "Model Loaded Successfully!\n"
     ]
    }
   ],
   "source": [
    "import tensorflow as tf\n",
    "print(tf.__version__)\n",
    "from tensorflow.keras.models import load_model\n",
    "from loss_funcs import loss_function\n",
    "\n",
    "# create the instance\n",
    "my_loss_func = loss_function()\n",
    "\n",
    "dice_coefficient = my_loss_func.dice_coefficient\n",
    "dice_loss = my_loss_func.dice_loss\n",
    "\n",
    "\n",
    "# Load the train model:\n",
    "saved_model_path = \"/home/smooi/vibes_auto_pipe/unet_w_aug.h5\"\n",
    "model = load_model(saved_model_path, custom_objects={\"dice_loss\": dice_loss, \"dice_coefficient\": dice_coefficient})\n",
    "print(\"Model Loaded Successfully!\")\n"
   ]
  },
  {
   "cell_type": "code",
   "execution_count": 10,
   "metadata": {},
   "outputs": [
    {
     "name": "stderr",
     "output_type": "stream",
     "text": [
      "2025-02-14 13:39:41.279369: I tensorflow/compiler/mlir/mlir_graph_optimization_pass.cc:116] None of the MLIR optimization passes are enabled (registered 2)\n",
      "2025-02-14 13:39:41.281861: I tensorflow/core/platform/profile_utils/cpu_utils.cc:112] CPU Frequency: 3609600000 Hz\n"
     ]
    }
   ],
   "source": [
    "# Make the predictions \n",
    "predictions = model.predict(image_batch)"
   ]
  },
  {
   "cell_type": "code",
   "execution_count": 11,
   "metadata": {},
   "outputs": [],
   "source": [
    "binary_predictions = (predictions > 0.5).astype(int)\n",
    "predicted_mask = binary_predictions.squeeze()"
   ]
  },
  {
   "cell_type": "code",
   "execution_count": null,
   "metadata": {},
   "outputs": [],
   "source": [
    "# import matplotlib.pyplot as plt\n",
    "# from matplotlib.backends.backend_pdf import PdfPages\n",
    "\n",
    "# with PdfPages('trial1.pdf') as pdf:\n",
    "#     for image in image_batch:  # Iterate over individual images\n",
    "#         # Expand dimensions to add batch size of 1 (for single-image prediction)\n",
    "#         image_expanded = np.expand_dims(image, axis=0)  # Shape: (1, 160, 160, 1)\n",
    "\n",
    "#         # Predict the mask\n",
    "#         predicted_mask = model.predict(image_expanded)  # Output shape: (1, 160, 160, 1)\n",
    "#         predicted_mask = (predicted_mask > 0.5).astype(int).squeeze()  # Remove batch dimension\n",
    "\n",
    "#         # Plot input image and predicted mask\n",
    "#         plt.figure(figsize=(10, 5))\n",
    "\n",
    "#         # Input image\n",
    "#         plt.subplot(1, 2, 1)\n",
    "#         plt.title(\"Input Image\")\n",
    "#         plt.imshow(image[:, :, 0], cmap='gray')  # Original shape: (160, 160, 1)\n",
    "#         plt.axis('off')\n",
    "\n",
    "#         # Predicted mask\n",
    "#         plt.subplot(1, 2, 2)\n",
    "#         plt.title(\"Predicted Mask\")\n",
    "#         plt.imshow(predicted_mask, cmap='gray')  # Predicted mask shape: (160, 160)\n",
    "#         plt.axis('off')\n",
    "\n",
    "#         # Save the figure to the PDF\n",
    "#         print(\"Saving figure...\")\n",
    "#         pdf.savefig()\n",
    "#         plt.close()\n"
   ]
  },
  {
   "cell_type": "code",
   "execution_count": null,
   "metadata": {},
   "outputs": [
    {
     "name": "stdout",
     "output_type": "stream",
     "text": [
      "(56, 160, 160)\n",
      "(160, 160, 56)\n"
     ]
    },
    {
     "name": "stderr",
     "output_type": "stream",
     "text": [
      "/home/smooi/miniconda3/envs/tf_env/lib/python3.7/site-packages/ipykernel_launcher.py:11: FutureWarning: Image data has type int64, which may cause incompatibilities with other tools. This will error in NiBabel 5.0. This warning can be silenced by passing the dtype argument to Nifti1Image().\n",
      "  # This is added back by InteractiveShellApp.init_path()\n"
     ]
    }
   ],
   "source": [
    "print(predicted_mask.shape)\n",
    "predicted_mask_reordered = np.transpose(predicted_mask, (1, 2, 0))\n",
    "print(predicted_mask_reordered.shape)\n",
    "\n",
    "# In order to transfer this back to the nii file,\n",
    "# we have to follow the original nifti file format,\n",
    "# which should have the slice number at the end (e.g. (160, 160, 48))\n",
    "\n",
    "# Create an nifti object\n",
    "affine = nifti.affine\n",
    "new_nifti = nib.Nifti1Image(predicted_mask_reordered, affine)\n",
    "saved_dir = \"/home/smooi/vibes_auto_pipe/result/Cc106_t2bet_mask.nii\"\n",
    "\n",
    "# change the format \n",
    "nib.save(new_nifti, saved_dir)\n",
    "# print(\"NIfTI file saved as 'predicted_masks1.nii'\")\n"
   ]
  },
  {
   "cell_type": "code",
   "execution_count": 13,
   "metadata": {},
   "outputs": [
    {
     "name": "stdout",
     "output_type": "stream",
     "text": [
      "Loaded NIfTI shape: (160, 160, 56)\n"
     ]
    }
   ],
   "source": [
    "# verify the aboved saved file\n",
    "saved_nifti = nib.load(saved_dir)\n",
    "loaded_data = saved_nifti.get_fdata()\n",
    "\n",
    "print(f\"Loaded NIfTI shape: {loaded_data.shape}\")  # Should match your mask shape\n"
   ]
  },
  {
   "cell_type": "code",
   "execution_count": null,
   "metadata": {},
   "outputs": [],
   "source": []
  },
  {
   "cell_type": "code",
   "execution_count": null,
   "metadata": {},
   "outputs": [],
   "source": []
  }
 ],
 "metadata": {
  "kernelspec": {
   "display_name": "tf_env",
   "language": "python",
   "name": "python3"
  },
  "language_info": {
   "codemirror_mode": {
    "name": "ipython",
    "version": 3
   },
   "file_extension": ".py",
   "mimetype": "text/x-python",
   "name": "python",
   "nbconvert_exporter": "python",
   "pygments_lexer": "ipython3",
   "version": "3.7.12"
  }
 },
 "nbformat": 4,
 "nbformat_minor": 2
}

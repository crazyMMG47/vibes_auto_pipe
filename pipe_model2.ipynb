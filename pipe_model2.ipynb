{
 "cells": [
  {
   "cell_type": "markdown",
   "metadata": {},
   "source": [
    "Second trial with input as nii files. "
   ]
  },
  {
   "cell_type": "code",
   "execution_count": 1,
   "metadata": {},
   "outputs": [],
   "source": [
    "import nibabel as nib\n",
    "import numpy as np\n",
    "nifti = nib.load(\"/home/ecbm4040/vibes_auto_pipe/t2bet.nii\")\n",
    "# retrieve nifti data\n",
    "data = nifti.get_fdata()\n",
    "data = (data - np.min(data)) / (np.max(data) - np.min(data)) * 255.0\n",
    "data = data.astype(np.uint8)  # Convert to 8-bit unsigned integers"
   ]
  },
  {
   "cell_type": "code",
   "execution_count": 2,
   "metadata": {},
   "outputs": [
    {
     "name": "stdout",
     "output_type": "stream",
     "text": [
      "(96, 96, 48)\n",
      "Saved: /home/smooi/vibes_auto_pipe/output/slice_000.png\n",
      "Saved: /home/smooi/vibes_auto_pipe/output/slice_001.png\n",
      "Saved: /home/smooi/vibes_auto_pipe/output/slice_002.png\n",
      "Saved: /home/smooi/vibes_auto_pipe/output/slice_003.png\n",
      "Saved: /home/smooi/vibes_auto_pipe/output/slice_004.png\n",
      "Saved: /home/smooi/vibes_auto_pipe/output/slice_005.png\n",
      "Saved: /home/smooi/vibes_auto_pipe/output/slice_006.png\n",
      "Saved: /home/smooi/vibes_auto_pipe/output/slice_007.png\n",
      "Saved: /home/smooi/vibes_auto_pipe/output/slice_008.png\n",
      "Saved: /home/smooi/vibes_auto_pipe/output/slice_009.png\n",
      "Saved: /home/smooi/vibes_auto_pipe/output/slice_010.png\n",
      "Saved: /home/smooi/vibes_auto_pipe/output/slice_011.png\n",
      "Saved: /home/smooi/vibes_auto_pipe/output/slice_012.png\n",
      "Saved: /home/smooi/vibes_auto_pipe/output/slice_013.png\n",
      "Saved: /home/smooi/vibes_auto_pipe/output/slice_014.png\n",
      "Saved: /home/smooi/vibes_auto_pipe/output/slice_015.png\n",
      "Saved: /home/smooi/vibes_auto_pipe/output/slice_016.png\n",
      "Saved: /home/smooi/vibes_auto_pipe/output/slice_017.png\n",
      "Saved: /home/smooi/vibes_auto_pipe/output/slice_018.png\n",
      "Saved: /home/smooi/vibes_auto_pipe/output/slice_019.png\n",
      "Saved: /home/smooi/vibes_auto_pipe/output/slice_020.png\n",
      "Saved: /home/smooi/vibes_auto_pipe/output/slice_021.png\n",
      "Saved: /home/smooi/vibes_auto_pipe/output/slice_022.png\n",
      "Saved: /home/smooi/vibes_auto_pipe/output/slice_023.png\n",
      "Saved: /home/smooi/vibes_auto_pipe/output/slice_024.png\n",
      "Saved: /home/smooi/vibes_auto_pipe/output/slice_025.png\n",
      "Saved: /home/smooi/vibes_auto_pipe/output/slice_026.png\n",
      "Saved: /home/smooi/vibes_auto_pipe/output/slice_027.png\n",
      "Saved: /home/smooi/vibes_auto_pipe/output/slice_028.png\n",
      "Saved: /home/smooi/vibes_auto_pipe/output/slice_029.png\n",
      "Saved: /home/smooi/vibes_auto_pipe/output/slice_030.png\n",
      "Saved: /home/smooi/vibes_auto_pipe/output/slice_031.png\n",
      "Saved: /home/smooi/vibes_auto_pipe/output/slice_032.png\n",
      "Saved: /home/smooi/vibes_auto_pipe/output/slice_033.png\n",
      "Saved: /home/smooi/vibes_auto_pipe/output/slice_034.png\n",
      "Saved: /home/smooi/vibes_auto_pipe/output/slice_035.png\n",
      "Saved: /home/smooi/vibes_auto_pipe/output/slice_036.png\n",
      "Saved: /home/smooi/vibes_auto_pipe/output/slice_037.png\n",
      "Saved: /home/smooi/vibes_auto_pipe/output/slice_038.png\n",
      "Saved: /home/smooi/vibes_auto_pipe/output/slice_039.png\n",
      "Saved: /home/smooi/vibes_auto_pipe/output/slice_040.png\n",
      "Saved: /home/smooi/vibes_auto_pipe/output/slice_041.png\n",
      "Saved: /home/smooi/vibes_auto_pipe/output/slice_042.png\n",
      "Saved: /home/smooi/vibes_auto_pipe/output/slice_043.png\n",
      "Saved: /home/smooi/vibes_auto_pipe/output/slice_044.png\n",
      "Saved: /home/smooi/vibes_auto_pipe/output/slice_045.png\n",
      "Saved: /home/smooi/vibes_auto_pipe/output/slice_046.png\n",
      "Saved: /home/smooi/vibes_auto_pipe/output/slice_047.png\n"
     ]
    }
   ],
   "source": [
    "print(data.shape) # (96, 96, 48) # there are 48 slices\n",
    "import cv2\n",
    "import os\n",
    "output_dir = \"/home/smooi/vibes_auto_pipe/output\"\n",
    "\n",
    "# Iterate through the slices \n",
    "for i in range(data.shape[2]): #iter thru 1 to 48 \n",
    "    slice_ = data[:, :, i] # 2D slices\n",
    "    resized_slice = cv2.resize(slice_, (160, 160), interpolation=cv2.INTER_AREA)\n",
    "    # Scale to Full Grayscale Range [0, 255]\n",
    "    img_max_range = resized_slice.max()\n",
    "    output_img = (resized_slice / img_max_range) * 255\n",
    "    output_path = os.path.join(output_dir, f\"slice_{i:03d}.png\") \n",
    "    cv2.imwrite(output_path, output_img)\n",
    "    print(f\"Saved: {output_path}\")\n",
    "    \n"
   ]
  },
  {
   "cell_type": "code",
   "execution_count": 3,
   "metadata": {},
   "outputs": [
    {
     "name": "stdout",
     "output_type": "stream",
     "text": [
      "Image Shape: (160, 160)\n",
      "Data Type: uint8\n",
      "Min Pixel Value: 0\n",
      "Max Pixel Value: 255\n"
     ]
    }
   ],
   "source": [
    "# load a png file and explore its min and max\n",
    "picture = \"/home/ecbm4040/vibes_auto_pipe/output/slice_001.png\"\n",
    "\n",
    "# chatgpt's code to examine a png file\n",
    "image = cv2.imread(picture, cv2.IMREAD_UNCHANGED)\n",
    "\n",
    "# Display basic information\n",
    "print(f\"Image Shape: {image.shape}\")  # Dimensions: (height, width, channels)\n",
    "print(f\"Data Type: {image.dtype}\")    # Pixel data type (e.g., uint8)\n",
    "print(f\"Min Pixel Value: {image.min()}\")  # Minimum pixel intensity\n",
    "print(f\"Max Pixel Value: {image.max()}\")  # Maximum pixel intensity\n",
    "\n",
    "# Currently, there's no channel info\n",
    "# It is also observed that the pixel range is not Scale to Full Grayscale Range [0, 255]"
   ]
  },
  {
   "cell_type": "code",
   "execution_count": 4,
   "metadata": {},
   "outputs": [
    {
     "name": "stdout",
     "output_type": "stream",
     "text": [
      "Processed Image Batch Shape: (48, 160, 160, 1)\n"
     ]
    }
   ],
   "source": [
    "import tensorflow as tf\n",
    "\n",
    "mydir = \"/home/ecbm4040/vibes_auto_pipe/output\"\n",
    "\n",
    "def prepare_image_for_tf(img):\n",
    "    brain_img = tf.io.read_file(img)\n",
    "    brain_img = tf.io.decode_png(brain_img, channels=1) # brain img channels=1 greyscale\n",
    "    brain_img = tf.image.resize(brain_img, [160, 160]) # Necessary since inputs may be varying in size from different trials\n",
    "    brain_img = tf.cast(brain_img, tf.float32)  \n",
    "    \n",
    "    return brain_img\n",
    "\n",
    "# Process all images in the directory\n",
    "def process_all_images(directory):\n",
    "    image_tensors = []\n",
    "    for filename in os.listdir(directory):\n",
    "        if filename.endswith(\".png\"):  # Process only PNG files\n",
    "            img_path = os.path.join(directory, filename)\n",
    "            processed_img = prepare_image_for_tf(img_path)\n",
    "            image_tensors.append(processed_img)\n",
    "    return tf.stack(image_tensors)  # Stack into a batch tensor\n",
    "\n",
    "# Process images in the directory\n",
    "image_batch = process_all_images(mydir)\n",
    "print(f\"Processed Image Batch Shape: {image_batch.shape}\") # Processed Image Batch Shape: (48, 160, 160, 1)  48 refers to the batch size \n"
   ]
  },
  {
   "cell_type": "code",
   "execution_count": null,
   "metadata": {},
   "outputs": [],
   "source": [
    "# # let's reexamine the shape and intensity of the images\n",
    "# for brain_img in image_batch:\n",
    "    \n",
    "#     print(\"Brain Image range: Min =\", tf.reduce_min(brain_img).numpy(), \n",
    "#           \"Max =\", tf.reduce_max(brain_img).numpy())\n",
    "    \n",
    "# yes, its min = 0 and max = 255 now. "
   ]
  },
  {
   "cell_type": "code",
   "execution_count": 5,
   "metadata": {},
   "outputs": [
    {
     "data": {
      "image/png": "[encoded data removed]",
      "text/plain": [
       "<Figure size 360x360 with 1 Axes>"
      ]
     },
     "metadata": {
      "needs_background": "light"
     },
     "output_type": "display_data"
    }
   ],
   "source": [
    "# show brain figures that we want to visualize\n",
    "# View 10 random brain image and mask from training data:\n",
    "import matplotlib.pyplot as plt\n",
    "plt.figure(figsize=(5,5))\n",
    "\n",
    "for image in image_batch:  # Let's examine five pairs\n",
    "    # i: represent index var for each iteration\n",
    "    # Show brain image\n",
    "    squeezed_brain_img = tf.squeeze(image, axis=-1)  # Remove the channel dimension (which indicates greyscale)\n",
    "    plt.imshow(squeezed_brain_img, cmap=\"gray\")\n",
    "    plt.title(f\"Brain Image {i + 1}\")\n",
    "    plt.axis(\"off\")\n",
    "    plt.tight_layout() \n",
    "    # plt.show() \n",
    "\n"
   ]
  },
  {
   "cell_type": "code",
   "execution_count": 5,
   "metadata": {},
   "outputs": [
    {
     "name": "stdout",
     "output_type": "stream",
     "text": [
      "Your loss function class initiate successfully!\n",
      "Model Loaded Successfully!\n"
     ]
    }
   ],
   "source": [
    "from tensorflow.keras.models import load_model\n",
    "from loss_funcs import loss_function\n",
    "\n",
    "# create the instance\n",
    "my_loss_func = loss_function()\n",
    "\n",
    "dice_coefficient = my_loss_func.dice_coefficient\n",
    "dice_loss = my_loss_func.dice_loss\n",
    "\n",
    "\n",
    "# Load the train model:\n",
    "saved_model_path = \"/home/ecbm4040/vibes_auto_pipe/unet_w_aug.h5\"\n",
    "model = load_model(saved_model_path, custom_objects={\"dice_loss\": dice_loss, \"dice_coefficient\": dice_coefficient})\n",
    "print(\"Model Loaded Successfully!\")\n"
   ]
  },
  {
   "cell_type": "code",
   "execution_count": 6,
   "metadata": {},
   "outputs": [],
   "source": [
    "# Make the predictions \n",
    "predictions = model.predict(image_batch)"
   ]
  },
  {
   "cell_type": "code",
   "execution_count": 7,
   "metadata": {},
   "outputs": [],
   "source": [
    "binary_predictions = (predictions > 0.5).astype(int)\n",
    "predicted_mask = binary_predictions.squeeze()"
   ]
  },
  {
   "cell_type": "code",
   "execution_count": 9,
   "metadata": {},
   "outputs": [
    {
     "name": "stdout",
     "output_type": "stream",
     "text": [
      "Saving figure...\n",
      "Saving figure...\n",
      "Saving figure...\n",
      "Saving figure...\n",
      "Saving figure...\n",
      "Saving figure...\n",
      "Saving figure...\n",
      "Saving figure...\n",
      "Saving figure...\n",
      "Saving figure...\n",
      "Saving figure...\n",
      "Saving figure...\n",
      "Saving figure...\n",
      "Saving figure...\n",
      "Saving figure...\n",
      "Saving figure...\n",
      "Saving figure...\n",
      "Saving figure...\n",
      "Saving figure...\n",
      "Saving figure...\n",
      "Saving figure...\n",
      "Saving figure...\n",
      "Saving figure...\n",
      "Saving figure...\n",
      "Saving figure...\n",
      "Saving figure...\n",
      "Saving figure...\n",
      "Saving figure...\n",
      "Saving figure...\n",
      "Saving figure...\n",
      "Saving figure...\n",
      "Saving figure...\n",
      "Saving figure...\n",
      "Saving figure...\n",
      "Saving figure...\n",
      "Saving figure...\n",
      "Saving figure...\n",
      "Saving figure...\n",
      "Saving figure...\n",
      "Saving figure...\n",
      "Saving figure...\n",
      "Saving figure...\n",
      "Saving figure...\n",
      "Saving figure...\n",
      "Saving figure...\n",
      "Saving figure...\n",
      "Saving figure...\n",
      "Saving figure...\n"
     ]
    }
   ],
   "source": [
    "# import matplotlib.pyplot as plt\n",
    "# from matplotlib.backends.backend_pdf import PdfPages\n",
    "\n",
    "# with PdfPages('trial1.pdf') as pdf:\n",
    "#     for image in image_batch:  # Iterate over individual images\n",
    "#         # Expand dimensions to add batch size of 1 (for single-image prediction)\n",
    "#         image_expanded = np.expand_dims(image, axis=0)  # Shape: (1, 160, 160, 1)\n",
    "\n",
    "#         # Predict the mask\n",
    "#         predicted_mask = model.predict(image_expanded)  # Output shape: (1, 160, 160, 1)\n",
    "#         predicted_mask = (predicted_mask > 0.5).astype(int).squeeze()  # Remove batch dimension\n",
    "\n",
    "#         # Plot input image and predicted mask\n",
    "#         plt.figure(figsize=(10, 5))\n",
    "\n",
    "#         # Input image\n",
    "#         plt.subplot(1, 2, 1)\n",
    "#         plt.title(\"Input Image\")\n",
    "#         plt.imshow(image[:, :, 0], cmap='gray')  # Original shape: (160, 160, 1)\n",
    "#         plt.axis('off')\n",
    "\n",
    "#         # Predicted mask\n",
    "#         plt.subplot(1, 2, 2)\n",
    "#         plt.title(\"Predicted Mask\")\n",
    "#         plt.imshow(predicted_mask, cmap='gray')  # Predicted mask shape: (160, 160)\n",
    "#         plt.axis('off')\n",
    "\n",
    "#         # Save the figure to the PDF\n",
    "#         print(\"Saving figure...\")\n",
    "#         pdf.savefig()\n",
    "#         plt.close()\n"
   ]
  },
  {
   "cell_type": "code",
   "execution_count": 21,
   "metadata": {},
   "outputs": [
    {
     "name": "stdout",
     "output_type": "stream",
     "text": [
      "(48, 160, 160)\n",
      "(160, 160, 48)\n",
      "NIfTI file saved as 'predicted_masks.nii'\n"
     ]
    }
   ],
   "source": [
    "print(predicted_mask.shape)\n",
    "predicted_mask_reordered = np.transpose(predicted_mask, (1, 2, 0))\n",
    "print(predicted_mask_reordered.shape)\n",
    "\n",
    "# In order to transfer this back to the nii file,\n",
    "# we have to follow the original nifti file format,\n",
    "# which should have the slice number at the end (e.g. (160, 160, 48))\n",
    "\n",
    "# Create an nifti object\n",
    "affine = nifti.affine\n",
    "new_nifti = nib.Nifti1Image(predicted_mask_reordered, affine)\n",
    "\n",
    "# change the format \n",
    "nib.save(new_nifti, \"predicted_masks1.nii\")\n",
    "print(\"NIfTI file saved as 'predicted_masks1.nii'\")\n"
   ]
  },
  {
   "cell_type": "code",
   "execution_count": 22,
   "metadata": {},
   "outputs": [
    {
     "name": "stdout",
     "output_type": "stream",
     "text": [
      "Loaded NIfTI shape: (160, 160, 48)\n"
     ]
    }
   ],
   "source": [
    "# verify the aboved saved file\n",
    "saved_nifti = nib.load(\"/home/ecbm4040/vibes_auto_pipe/predicted_masks1.nii\")\n",
    "loaded_data = saved_nifti.get_fdata()\n",
    "\n",
    "print(f\"Loaded NIfTI shape: {loaded_data.shape}\")  # Should match your mask shape\n"
   ]
  },
  {
   "cell_type": "code",
   "execution_count": null,
   "metadata": {},
   "outputs": [],
   "source": []
  }
 ],
 "metadata": {
  "kernelspec": {
   "display_name": "Python 3",
   "language": "python",
   "name": "python3"
  },
  "language_info": {
   "codemirror_mode": {
    "name": "ipython",
    "version": 3
   },
   "file_extension": ".py",
   "mimetype": "text/x-python",
   "name": "python",
   "nbconvert_exporter": "python",
   "pygments_lexer": "ipython3",
   "version": "3.6.9"
  }
 },
 "nbformat": 4,
 "nbformat_minor": 2
}

{
 "cells": [
  {
   "cell_type": "markdown",
   "metadata": {},
   "source": [
    "## Convert .h5 files to onnx "
   ]
  },
  {
   "cell_type": "code",
   "execution_count": 7,
   "metadata": {},
   "outputs": [],
   "source": [
    "import os\n",
    "import tensorflow as tensorflow\n",
    "import onnxmltools\n",
    "import loss_funcs\n",
    "from loss_funcs import loss_function"
   ]
  },
  {
   "cell_type": "code",
   "execution_count": 8,
   "metadata": {},
   "outputs": [],
   "source": [
    "from tensorflow.keras.models import load_model"
   ]
  },
  {
   "cell_type": "code",
   "execution_count": 9,
   "metadata": {},
   "outputs": [],
   "source": [
    "my_model = \"/Users/helen/Desktop/HL_Dev_Model/unet_w_aug.h5\"\n",
    "\n",
    "dice_loss = loss_function.dice_loss\n",
    "dice_coefficient = loss_function.dice_coefficient\n",
    "\n",
    "keras_model = load_model(my_model, custom_objects={\"dice_loss\": dice_loss, \"dice_coefficient\": dice_coefficient})"
   ]
  },
  {
   "cell_type": "code",
   "execution_count": 11,
   "metadata": {},
   "outputs": [],
   "source": [
    "# convert to onnx model\n",
    "onnx_model = onnxmltools.convert_keras(keras_model)"
   ]
  },
  {
   "cell_type": "code",
   "execution_count": 14,
   "metadata": {},
   "outputs": [],
   "source": [
    "# save the onnx model in the desired directory \n",
    "output_dir = \"/Users/helen/Desktop/HL_Dev_Model/unet_w_aug.onnx\" \n",
    "onnxmltools.utils.save_model(onnx_model, output_dir)"
   ]
  },
  {
   "cell_type": "code",
   "execution_count": null,
   "metadata": {},
   "outputs": [],
   "source": [
    "# should be donw with the model convert, try in matlab!"
   ]
  }
 ],
 "metadata": {
  "kernelspec": {
   "display_name": "Python 3 (ipykernel)",
   "language": "python",
   "name": "python3"
  },
  "language_info": {
   "codemirror_mode": {
    "name": "ipython",
    "version": 3
   },
   "file_extension": ".py",
   "mimetype": "text/x-python",
   "name": "python",
   "nbconvert_exporter": "python",
   "pygments_lexer": "ipython3",
   "version": "3.11.5"
  }
 },
 "nbformat": 4,
 "nbformat_minor": 4
}
